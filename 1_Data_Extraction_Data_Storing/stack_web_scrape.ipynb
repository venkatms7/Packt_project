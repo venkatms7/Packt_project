{
 "cells": [
  {
   "cell_type": "code",
   "execution_count": 1,
   "metadata": {},
   "outputs": [],
   "source": [
    "import os\n",
    "import requests\n",
    "from requests_html import HTML\n",
    "import json\n",
    "import time\n",
    "import numpy as np\n",
    "import pandas as pd\n",
    "#os.chdir('D:\\\\')"
   ]
  },
  {
   "cell_type": "code",
   "execution_count": 2,
   "metadata": {},
   "outputs": [
    {
     "data": {
      "text/plain": [
       "'import requests\\nfrom requests_html import HTML\\nimport json\\nimport time\\n\\nbase_url = \\'https://stackoverflow.com/questions/tagged/\\'\\ntag = \\'python\\'\\nquery_filter = \\'Votes\\'\\nurl = f\"{base_url}{tag}?tab={query_filter}\"\\nurl'"
      ]
     },
     "execution_count": 2,
     "metadata": {},
     "output_type": "execute_result"
    }
   ],
   "source": [
    "\"\"\"import requests\n",
    "from requests_html import HTML\n",
    "import json\n",
    "import time\n",
    "\n",
    "base_url = 'https://stackoverflow.com/questions/tagged/'\n",
    "tag = 'python'\n",
    "query_filter = 'Votes'\n",
    "url = f\"{base_url}{tag}?tab={query_filter}\"\n",
    "url\"\"\""
   ]
  },
  {
   "cell_type": "code",
   "execution_count": 3,
   "metadata": {},
   "outputs": [
    {
     "data": {
      "text/plain": [
       "'https://stackoverflow.com/questions?tab=Votes'"
      ]
     },
     "execution_count": 3,
     "metadata": {},
     "output_type": "execute_result"
    }
   ],
   "source": [
    "import requests\n",
    "from requests_html import HTML\n",
    "import json\n",
    "\n",
    "base_url = 'https://stackoverflow.com/questions'\n",
    "query_filter = 'Votes'\n",
    "url = f\"{base_url}?tab={query_filter}\"\n",
    "url"
   ]
  },
  {
   "cell_type": "code",
   "execution_count": 4,
   "metadata": {},
   "outputs": [],
   "source": [
    "r = requests.get(url)\n",
    "html_str = r.text"
   ]
  },
  {
   "cell_type": "code",
   "execution_count": 5,
   "metadata": {},
   "outputs": [],
   "source": [
    "html = HTML(html=html_str)"
   ]
  },
  {
   "cell_type": "code",
   "execution_count": 6,
   "metadata": {},
   "outputs": [
    {
     "name": "stdout",
     "output_type": "stream",
     "text": [
      "[<Element 'div' id='question-summary-11227809' class=('s-post-summary', 'js-post-summary') data-post-id='11227809' data-post-type-id='1'>, <Element 'div' id='question-summary-927358' class=('s-post-summary', 'js-post-summary') data-post-id='927358' data-post-type-id='1'>, <Element 'div' id='question-summary-2003505' class=('s-post-summary', 'js-post-summary') data-post-id='2003505' data-post-type-id='1'>, <Element 'div' id='question-summary-292357' class=('s-post-summary', 'js-post-summary') data-post-id='292357' data-post-type-id='1'>, <Element 'div' id='question-summary-231767' class=('s-post-summary', 'js-post-summary') data-post-id='231767' data-post-type-id='1'>, <Element 'div' id='question-summary-5767325' class=('s-post-summary', 'js-post-summary') data-post-id='5767325' data-post-type-id='1'>, <Element 'div' id='question-summary-477816' class=('s-post-summary', 'js-post-summary') data-post-id='477816' data-post-type-id='1'>, <Element 'div' id='question-summary-6591213' class=('s-post-summary', 'js-post-summary') data-post-id='6591213' data-post-type-id='1'>, <Element 'div' id='question-summary-348170' class=('s-post-summary', 'js-post-summary') data-post-id='348170' data-post-type-id='1'>, <Element 'div' id='question-summary-1642028' class=('s-post-summary', 'js-post-summary') data-post-id='1642028' data-post-type-id='1'>, <Element 'div' id='question-summary-244777' class=('s-post-summary', 'js-post-summary') data-post-id='244777' data-post-type-id='1'>, <Element 'div' id='question-summary-1125968' class=('s-post-summary', 'js-post-summary') data-post-id='1125968' data-post-type-id='1'>, <Element 'div' id='question-summary-79923' class=('s-post-summary', 'js-post-summary') data-post-id='79923' data-post-type-id='1'>, <Element 'div' id='question-summary-8318911' class=('s-post-summary', 'js-post-summary') data-post-id='8318911' data-post-type-id='1'>, <Element 'div' id='question-summary-178325' class=('s-post-summary', 'js-post-summary') data-post-id='178325' data-post-type-id='1'>, <Element 'div' id='question-summary-1783405' class=('s-post-summary', 'js-post-summary') data-post-id='1783405' data-post-type-id='1'>, <Element 'div' id='question-summary-1335851' class=('s-post-summary', 'js-post-summary') data-post-id='1335851' data-post-type-id='1'>, <Element 'div' id='question-summary-419163' class=('s-post-summary', 'js-post-summary') data-post-id='419163' data-post-type-id='1'>, <Element 'div' id='question-summary-61212' class=('s-post-summary', 'js-post-summary') data-post-id='61212' data-post-type-id='1'>, <Element 'div' id='question-summary-1274057' class=('s-post-summary', 'js-post-summary') data-post-id='1274057' data-post-type-id='1'>, <Element 'div' id='question-summary-394809' class=('s-post-summary', 'js-post-summary') data-post-id='394809' data-post-type-id='1'>, <Element 'div' id='question-summary-503093' class=('s-post-summary', 'js-post-summary') data-post-id='503093' data-post-type-id='1'>, <Element 'div' id='question-summary-40480' class=('s-post-summary', 'js-post-summary') data-post-id='40480' data-post-type-id='1'>, <Element 'div' id='question-summary-179123' class=('s-post-summary', 'js-post-summary') data-post-id='179123' data-post-type-id='1'>, <Element 'div' id='question-summary-111102' class=('s-post-summary', 'js-post-summary') data-post-id='111102' data-post-type-id='1'>, <Element 'div' id='question-summary-4114095' class=('s-post-summary', 'js-post-summary') data-post-id='4114095' data-post-type-id='1'>, <Element 'div' id='question-summary-336859' class=('s-post-summary', 'js-post-summary') data-post-id='336859' data-post-type-id='1'>, <Element 'div' id='question-summary-6841333' class=('s-post-summary', 'js-post-summary') data-post-id='6841333' data-post-type-id='1'>, <Element 'div' id='question-summary-7074' class=('s-post-summary', 'js-post-summary') data-post-id='7074' data-post-type-id='1'>, <Element 'div' id='question-summary-1789945' class=('s-post-summary', 'js-post-summary') data-post-id='1789945' data-post-type-id='1'>, <Element 'div' id='question-summary-208105' class=('s-post-summary', 'js-post-summary') data-post-id='208105' data-post-type-id='1'>, <Element 'div' id='question-summary-16956810' class=('s-post-summary', 'js-post-summary') data-post-id='16956810' data-post-type-id='1'>, <Element 'div' id='question-summary-100003' class=('s-post-summary', 'js-post-summary') data-post-id='100003' data-post-type-id='1'>, <Element 'div' id='question-summary-82831' class=('s-post-summary', 'js-post-summary') data-post-id='82831' data-post-type-id='1'>, <Element 'div' id='question-summary-38987' class=('s-post-summary', 'js-post-summary') data-post-id='38987' data-post-type-id='1'>, <Element 'div' id='question-summary-14220321' class=('s-post-summary', 'js-post-summary') data-post-id='14220321' data-post-type-id='1'>, <Element 'div' id='question-summary-1628563' class=('s-post-summary', 'js-post-summary') data-post-id='1628563' data-post-type-id='1'>, <Element 'div' id='question-summary-2025282' class=('s-post-summary', 'js-post-summary') data-post-id='2025282' data-post-type-id='1'>, <Element 'div' id='question-summary-630453' class=('s-post-summary', 'js-post-summary') data-post-id='630453' data-post-type-id='1'>, <Element 'div' id='question-summary-950087' class=('s-post-summary', 'js-post-summary') data-post-id='950087' data-post-type-id='1'>, <Element 'div' id='question-summary-762011' class=('s-post-summary', 'js-post-summary') data-post-id='762011' data-post-type-id='1'>, <Element 'div' id='question-summary-52704' class=('s-post-summary', 'js-post-summary') data-post-id='52704' data-post-type-id='1'>, <Element 'div' id='question-summary-59895' class=('s-post-summary', 'js-post-summary') data-post-id='59895' data-post-type-id='1'>, <Element 'div' id='question-summary-826782' class=('s-post-summary', 'js-post-summary') data-post-id='826782' data-post-type-id='1'>, <Element 'div' id='question-summary-89228' class=('s-post-summary', 'js-post-summary') data-post-id='89228' data-post-type-id='1'>, <Element 'div' id='question-summary-2432764' class=('s-post-summary', 'js-post-summary') data-post-id='2432764' data-post-type-id='1'>, <Element 'div' id='question-summary-359494' class=('s-post-summary', 'js-post-summary') data-post-id='359494' data-post-type-id='1'>, <Element 'div' id='question-summary-417142' class=('s-post-summary', 'js-post-summary') data-post-id='417142' data-post-type-id='1'>, <Element 'div' id='question-summary-215718' class=('s-post-summary', 'js-post-summary') data-post-id='215718' data-post-type-id='1'>, <Element 'div' id='question-summary-9329446' class=('s-post-summary', 'js-post-summary') data-post-id='9329446' data-post-type-id='1'>]\n"
     ]
    }
   ],
   "source": [
    "question_summaries = html.find(\".s-post-summary\")\n",
    "print(question_summaries)"
   ]
  },
  {
   "cell_type": "code",
   "execution_count": 7,
   "metadata": {},
   "outputs": [
    {
     "name": "stdout",
     "output_type": "stream",
     "text": [
      "25719 votes\n",
      "104 answers\n",
      "12.9m views\n",
      "How do I undo the most recent local commits in Git?\n",
      "I accidentally committed the wrong files to Git, but didn't push the commit to the server yet. How do I undo those commits from the local repository?\n",
      "git\n",
      "version-control\n",
      "repository\n",
      "git-commit\n",
      "undo\n",
      "Community wiki\n",
      "93 revs, 64 users 11%\n",
      "Peter Mortensen\n"
     ]
    }
   ],
   "source": [
    "print(question_summaries[1].text)"
   ]
  },
  {
   "cell_type": "code",
   "execution_count": 8,
   "metadata": {},
   "outputs": [
    {
     "data": {
      "text/plain": [
       "\"columns = ['votes', 'answers', 'views', 'question', 'description', 'tags', 'user', 'user_details', 'date']\""
      ]
     },
     "execution_count": 8,
     "metadata": {},
     "output_type": "execute_result"
    }
   ],
   "source": [
    "\"\"\"columns = ['votes', 'answers', 'views', 'question', 'description', 'tags', 'user', 'user_details', 'date']\"\"\""
   ]
  },
  {
   "cell_type": "code",
   "execution_count": 9,
   "metadata": {},
   "outputs": [
    {
     "data": {
      "text/plain": [
       "['25719 votes',\n",
       " '104 answers',\n",
       " '12.9m views',\n",
       " 'How do I undo the most recent local commits in Git?',\n",
       " \"I accidentally committed the wrong files to Git, but didn't push the commit to the server yet. How do I undo those commits from the local repository?\",\n",
       " 'git',\n",
       " 'version-control',\n",
       " 'repository',\n",
       " 'git-commit',\n",
       " 'undo',\n",
       " 'Community wiki',\n",
       " '93 revs, 64 users 11%',\n",
       " 'Peter Mortensen']"
      ]
     },
     "execution_count": 9,
     "metadata": {},
     "output_type": "execute_result"
    }
   ],
   "source": [
    "this_row =list(question_summaries[1].text.split('\\n'))\n",
    "this_row"
   ]
  },
  {
   "cell_type": "code",
   "execution_count": 10,
   "metadata": {},
   "outputs": [],
   "source": [
    "#len(this_row)==len(columns)\n",
    "key_names = ['user', 'question','votes','date']\n",
    "key_names = ['tags']\n",
    "classes_needed = ['.s-user-card--link','.s-link','.s-post-summary--stats-item-number','.relativetime']\n",
    "classes_needed = ['.s-post-summary--meta-tags']"
   ]
  },
  {
   "cell_type": "code",
   "execution_count": 11,
   "metadata": {},
   "outputs": [],
   "source": [
    "\n",
    "this_question_element = question_summaries[0]\n",
    "this_question_element.find('.s-post-summary--meta-tags', first=True).text.replace('\\n',' and ')\n",
    "#import numpy as np\n",
    "#import pandas as pd"
   ]
  },
  {
   "cell_type": "code",
   "execution_count": 12,
   "metadata": {},
   "outputs": [
    {
     "data": {
      "text/plain": [
       "'java and c++ and performance and cpu-architecture and branch-prediction'"
      ]
     },
     "execution_count": 12,
     "metadata": {},
     "output_type": "execute_result"
    }
   ],
   "source": [
    "this_question_element.find('.s-post-summary--meta-tags', first=True).text.replace('\\n',' and ')\n"
   ]
  },
  {
   "cell_type": "code",
   "execution_count": 13,
   "metadata": {},
   "outputs": [
    {
     "data": {
      "text/plain": [
       "\"\\ndata = []\\n\\nfor items in question_summaries:\\n    ques_data = {}\\n    for i, elements in enumerate(classes_needed):\\n        sub_elements = items.find(elements, first = True)\\n        keyname = key_names[i]\\n        if sub_elements:\\n            ques_data[keyname]=sub_elements.text.replace('\\n',' and ')\\n        else:\\n            ques_data[keyname]=np.nan\\n    data.append(ques_data)\\n\\ndata[0]\""
      ]
     },
     "execution_count": 13,
     "metadata": {},
     "output_type": "execute_result"
    }
   ],
   "source": [
    "\"\"\"\n",
    "data = []\n",
    "\n",
    "for items in question_summaries:\n",
    "    ques_data = {}\n",
    "    for i, elements in enumerate(classes_needed):\n",
    "        sub_elements = items.find(elements, first = True)\n",
    "        keyname = key_names[i]\n",
    "        if sub_elements:\n",
    "            ques_data[keyname]=sub_elements.text.replace('\\n',' and ')\n",
    "        else:\n",
    "            ques_data[keyname]=np.nan\n",
    "    data.append(ques_data)\n",
    "\n",
    "data[0]\"\"\""
   ]
  },
  {
   "cell_type": "code",
   "execution_count": 14,
   "metadata": {},
   "outputs": [],
   "source": [
    "def clean_data(text, keyname=None):\n",
    "    if keyname == 'tags':\n",
    "        return text.replace('\\n', ' and ')\n",
    "    return text"
   ]
  },
  {
   "cell_type": "code",
   "execution_count": 15,
   "metadata": {},
   "outputs": [],
   "source": [
    "def parse_tagged_page(html):\n",
    "    question_summaries = html.find(\".s-post-summary\") \n",
    "    key_names = ['user', 'votes','tags','date']\n",
    "    class_needed = ['.s-user-card--link','.s-post-summary--stats-item-number','.s-post-summary--meta-tags','.relativetime']\n",
    "    data = []\n",
    "\n",
    "    for items in question_summaries:\n",
    "        q_data = {}\n",
    "        for i, elements in enumerate(class_needed):\n",
    "            sub_elements = items.find(elements, first = True)\n",
    "            keyname = key_names[i]\n",
    "            if sub_elements:\n",
    "                q_data[keyname]=clean_data(sub_elements.text.replace('\\n',' and '), keyname=keyname)\n",
    "            else:\n",
    "                q_data[keyname]=clean_data(np.nan, keyname=keyname)\n",
    "        data.append(q_data)\n",
    "    return data"
   ]
  },
  {
   "cell_type": "code",
   "execution_count": 16,
   "metadata": {},
   "outputs": [],
   "source": [
    "def extract_data_from_url(url):\n",
    "    r = requests.get(url)\n",
    "    if r.status_code not in range(200, 299):\n",
    "        return []\n",
    "    html_str = r.text\n",
    "    html = HTML(html=html_str)\n",
    "    data = parse_tagged_page(html)\n",
    "    return data"
   ]
  },
  {
   "cell_type": "code",
   "execution_count": 17,
   "metadata": {},
   "outputs": [],
   "source": [
    "def scrape_tag(query_filter = \"Votes\", max_pages=1000, pagesize=50):\n",
    "    base_url = 'https://stackoverflow.com/questions'\n",
    "    data = []\n",
    "    for p in range(max_pages):\n",
    "        page_num = p + 1\n",
    "        url = f\"{base_url}?tab={query_filter}&page={page_num}&pagesize={pagesize}\"\n",
    "        data += extract_data_from_url(url)\n",
    "        time.sleep(1.3)\n",
    "    return data"
   ]
  },
  {
   "cell_type": "code",
   "execution_count": 18,
   "metadata": {},
   "outputs": [],
   "source": [
    "data = scrape_tag(query_filter='Votes', max_pages=1000, pagesize=50)#Unanswered"
   ]
  },
  {
   "cell_type": "code",
   "execution_count": 19,
   "metadata": {},
   "outputs": [
    {
     "data": {
      "text/plain": [
       "[{'user': 'GManNickG',\n",
       "  'votes': '27015',\n",
       "  'tags': 'java and c++ and performance and cpu-architecture and branch-prediction',\n",
       "  'date': 'Jun 27, 2012 at 13:51'},\n",
       " {'user': 'Community wiki',\n",
       "  'votes': '25719',\n",
       "  'tags': 'git and version-control and repository and git-commit and undo',\n",
       "  'date': nan},\n",
       " {'user': 'Matthew Rankin',\n",
       "  'votes': '20176',\n",
       "  'tags': 'git and version-control and git-branch and git-push and git-remote',\n",
       "  'date': 'Jan 5, 2010 at 1:12'},\n",
       " {'user': 'pupeno',\n",
       "  'votes': '13636',\n",
       "  'tags': 'git and version-control and git-pull and git-fetch',\n",
       "  'date': 'Nov 15, 2008 at 9:51'},\n",
       " {'user': 'Alex. S.',\n",
       "  'votes': '12644',\n",
       "  'tags': 'python and iterator and generator and yield',\n",
       "  'date': 'Oct 23, 2008 at 22:21'},\n",
       " {'user': 'Walker',\n",
       "  'votes': '11528',\n",
       "  'tags': 'javascript and arrays',\n",
       "  'date': 'Apr 23, 2011 at 22:17'},\n",
       " {'user': 'Oli',\n",
       "  'votes': '11431',\n",
       "  'tags': 'json and mime-types and content-type',\n",
       "  'date': 'Jan 25, 2009 at 15:25'},\n",
       " {'user': 'Forrest',\n",
       "  'votes': '11277',\n",
       "  'tags': 'git and version-control and git-branch',\n",
       "  'date': 'Jul 6, 2011 at 3:20'},\n",
       " {'user': 'oz10',\n",
       "  'votes': '11086',\n",
       "  'tags': 'git and undo and git-add',\n",
       "  'date': 'Dec 7, 2008 at 21:57'},\n",
       " {'user': 'Community wiki',\n",
       "  'votes': '10029',\n",
       "  'tags': 'c++ and c and operators and code-formatting and standards-compliance',\n",
       "  'date': nan}]"
      ]
     },
     "execution_count": 19,
     "metadata": {},
     "output_type": "execute_result"
    }
   ],
   "source": [
    "data[:10]"
   ]
  },
  {
   "cell_type": "code",
   "execution_count": 20,
   "metadata": {},
   "outputs": [],
   "source": [
    "df= pd.DataFrame(data)"
   ]
  },
  {
   "cell_type": "code",
   "execution_count": 21,
   "metadata": {},
   "outputs": [],
   "source": [
    "df.to_csv('E:\\stg_ques_votes.csv', index=False, header=True, sep=',')"
   ]
  },
  {
   "cell_type": "code",
   "execution_count": 22,
   "metadata": {},
   "outputs": [],
   "source": [
    "df_csv = pd.read_csv('E:\\stg_ques_votes.csv',sep=',')"
   ]
  },
  {
   "cell_type": "code",
   "execution_count": 23,
   "metadata": {},
   "outputs": [
    {
     "data": {
      "text/html": [
       "<div>\n",
       "<style scoped>\n",
       "    .dataframe tbody tr th:only-of-type {\n",
       "        vertical-align: middle;\n",
       "    }\n",
       "\n",
       "    .dataframe tbody tr th {\n",
       "        vertical-align: top;\n",
       "    }\n",
       "\n",
       "    .dataframe thead th {\n",
       "        text-align: right;\n",
       "    }\n",
       "</style>\n",
       "<table border=\"1\" class=\"dataframe\">\n",
       "  <thead>\n",
       "    <tr style=\"text-align: right;\">\n",
       "      <th></th>\n",
       "      <th>user</th>\n",
       "      <th>votes</th>\n",
       "      <th>tags</th>\n",
       "      <th>date</th>\n",
       "    </tr>\n",
       "  </thead>\n",
       "  <tbody>\n",
       "    <tr>\n",
       "      <th>0</th>\n",
       "      <td>GManNickG</td>\n",
       "      <td>27014</td>\n",
       "      <td>java and c++ and performance and cpu-architect...</td>\n",
       "      <td>Jun 27, 2012 at 13:51</td>\n",
       "    </tr>\n",
       "    <tr>\n",
       "      <th>1</th>\n",
       "      <td>Community wiki</td>\n",
       "      <td>25715</td>\n",
       "      <td>git and version-control and repository and git...</td>\n",
       "      <td>NaN</td>\n",
       "    </tr>\n",
       "    <tr>\n",
       "      <th>2</th>\n",
       "      <td>Matthew Rankin</td>\n",
       "      <td>20167</td>\n",
       "      <td>git and version-control and git-branch and git...</td>\n",
       "      <td>Jan 5, 2010 at 1:12</td>\n",
       "    </tr>\n",
       "    <tr>\n",
       "      <th>3</th>\n",
       "      <td>pupeno</td>\n",
       "      <td>13632</td>\n",
       "      <td>git and version-control and git-pull and git-f...</td>\n",
       "      <td>Nov 15, 2008 at 9:51</td>\n",
       "    </tr>\n",
       "    <tr>\n",
       "      <th>4</th>\n",
       "      <td>Alex. S.</td>\n",
       "      <td>12640</td>\n",
       "      <td>python and iterator and generator and yield</td>\n",
       "      <td>Oct 23, 2008 at 22:21</td>\n",
       "    </tr>\n",
       "  </tbody>\n",
       "</table>\n",
       "</div>"
      ],
      "text/plain": [
       "             user  votes                                               tags  \\\n",
       "0       GManNickG  27014  java and c++ and performance and cpu-architect...   \n",
       "1  Community wiki  25715  git and version-control and repository and git...   \n",
       "2  Matthew Rankin  20167  git and version-control and git-branch and git...   \n",
       "3          pupeno  13632  git and version-control and git-pull and git-f...   \n",
       "4        Alex. S.  12640        python and iterator and generator and yield   \n",
       "\n",
       "                    date  \n",
       "0  Jun 27, 2012 at 13:51  \n",
       "1                    NaN  \n",
       "2    Jan 5, 2010 at 1:12  \n",
       "3   Nov 15, 2008 at 9:51  \n",
       "4  Oct 23, 2008 at 22:21  "
      ]
     },
     "execution_count": 23,
     "metadata": {},
     "output_type": "execute_result"
    }
   ],
   "source": [
    "df_csv.head()"
   ]
  },
  {
   "cell_type": "code",
   "execution_count": 24,
   "metadata": {},
   "outputs": [],
   "source": [
    "data = scrape_tag(query_filter='Unanswered',max_pages=1000, pagesize=50)#Unanswered"
   ]
  },
  {
   "cell_type": "code",
   "execution_count": 25,
   "metadata": {},
   "outputs": [
    {
     "data": {
      "text/plain": [
       "[{'user': 'Joey.Z',\n",
       "  'votes': '89',\n",
       "  'tags': 'android and android-ndk and gdb and gdbserver',\n",
       "  'date': 'Feb 5, 2018 at 3:03'},\n",
       " {'user': 'Philip',\n",
       "  'votes': '88',\n",
       "  'tags': 'julia and traits',\n",
       "  'date': 'Feb 24, 2016 at 22:19'},\n",
       " {'user': 'dad',\n",
       "  'votes': '79',\n",
       "  'tags': 'r and ggplot2 and sf and xquartz',\n",
       "  'date': 'Jul 1, 2018 at 18:42'},\n",
       " {'user': 'dMurdZ',\n",
       "  'votes': '65',\n",
       "  'tags': 'xcode and interface-builder and xcode6',\n",
       "  'date': 'Sep 16, 2014 at 13:32'},\n",
       " {'user': 'Murtaza Hussain',\n",
       "  'votes': '62',\n",
       "  'tags': 'reactjs and facebook and webview and stripe-payments and instagram',\n",
       "  'date': 'Jun 3, 2022 at 10:30'},\n",
       " {'user': 'Mohammad ZeinEddin',\n",
       "  'votes': '62',\n",
       "  'tags': 'php and doctrine-orm and zend-framework2 and zend-form2',\n",
       "  'date': 'Jul 18, 2013 at 11:39'},\n",
       " {'user': 'UserFrank',\n",
       "  'votes': '52',\n",
       "  'tags': 'amazon-s3 and upload and cpu and paperclip and space-leak',\n",
       "  'date': 'Aug 15, 2013 at 1:14'},\n",
       " {'user': 'Richie',\n",
       "  'votes': '51',\n",
       "  'tags': 'android and google-play',\n",
       "  'date': 'Jun 17, 2019 at 7:05'},\n",
       " {'user': 'Andrey',\n",
       "  'votes': '49',\n",
       "  'tags': 'linux and maven and ubuntu and glassfish and cargo',\n",
       "  'date': 'Jun 27, 2012 at 13:32'},\n",
       " {'user': 'drmrbrewer',\n",
       "  'votes': '49',\n",
       "  'tags': 'android and alarmmanager and android-jobscheduler',\n",
       "  'date': 'Sep 7, 2016 at 7:33'}]"
      ]
     },
     "execution_count": 25,
     "metadata": {},
     "output_type": "execute_result"
    }
   ],
   "source": [
    "data[:10]"
   ]
  },
  {
   "cell_type": "code",
   "execution_count": 26,
   "metadata": {},
   "outputs": [],
   "source": [
    "df= pd.DataFrame(data)\n",
    "df.to_csv('E:\\stg_ques_unans.csv', index=False, header=True, sep=',')"
   ]
  },
  {
   "cell_type": "code",
   "execution_count": 28,
   "metadata": {},
   "outputs": [
    {
     "data": {
      "text/plain": [
       "(37500, 4)"
      ]
     },
     "execution_count": 28,
     "metadata": {},
     "output_type": "execute_result"
    }
   ],
   "source": [
    "df.shape"
   ]
  },
  {
   "cell_type": "code",
   "execution_count": 29,
   "metadata": {},
   "outputs": [],
   "source": [
    "data = scrape_tag(query_filter='Newest',max_pages=1000, pagesize=50)#Unanswered"
   ]
  },
  {
   "cell_type": "code",
   "execution_count": 30,
   "metadata": {},
   "outputs": [],
   "source": [
    "df= pd.DataFrame(data)\n",
    "df.to_csv('E:\\stg_ques_new.csv', index=False, header=True, sep=',')"
   ]
  }
 ],
 "metadata": {
  "kernelspec": {
   "display_name": "Python 3",
   "language": "python",
   "name": "python3"
  },
  "language_info": {
   "codemirror_mode": {
    "name": "ipython",
    "version": 3
   },
   "file_extension": ".py",
   "mimetype": "text/x-python",
   "name": "python",
   "nbconvert_exporter": "python",
   "pygments_lexer": "ipython3",
   "version": "3.9.5"
  },
  "orig_nbformat": 4,
  "vscode": {
   "interpreter": {
    "hash": "be414d1fa8145e7c012da26637ecdb49d2ffb73af9f6af0bb5ea0645924c5a09"
   }
  }
 },
 "nbformat": 4,
 "nbformat_minor": 2
}
